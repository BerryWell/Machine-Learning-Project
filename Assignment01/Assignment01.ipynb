{
 "cells": [
  {
   "cell_type": "markdown",
   "metadata": {},
   "source": [
    "# Assignment 01\n",
    "\n",
    "## General Instruction\n",
    "\n",
    "#### Jupyter Notebook\n",
    "\n",
    "```console\n",
    "- Write programming codes in python\n",
    "- Use Jupyter Notebook for writing codes\n",
    "- Include comments and intermediate results in addition to the codes\n",
    "- Export the Jupyter Notebook file in PDF format\n",
    "- Turn in the PDF file at Google Classroom (late submission is not allowed)\n",
    "```\n",
    "\n",
    "#### History of git commits\n",
    "\n",
    "```console\n",
    "- Create a private repository at github \n",
    "- Commit intermediate status of working file at given steps\n",
    "- Export the history of commits in PDF format\n",
    "- Turn in the PDF file at Google Classroom (late submission is not allowed)\n",
    "```\n",
    "\n",
    "## Binary Classification based on Logistic Regression\n",
    "\n",
    "> - $(x_i, y_i)$ denotes a pair of a training example and $i = 1, 2, \\cdots, n$\n",
    "> - $\\hat{y}_i = \\sigma(z_i)$ where $z_i = w^T x_i + b$ and $\\sigma(z) = \\frac{1}{1 + \\exp(-z)}$\n",
    "> - The loss function is defined by $\\mathcal{L} = \\frac{1}{n} \\sum_{i=1}^n f_i(w, b)$\n",
    "> - $f_i(w, b) = - y_i \\log \\hat{y}_i - (1 - y_i) \\log (1 - \\hat{y}_i) $\n",
    "\n",
    "### 1. Plot two clusters of points for training dateset\n",
    "\n",
    "- Generate two sets of separable random point clusters in $\\mathbb{R}^2$\n",
    "- Let $\\{ x_i \\}_{i=1}^n$ be a set of points and $\\{ y_i \\}_{i=1}^n$ be their corresponding labels\n",
    "- Plot the point clusters in the training dataset using different colors depending on their labels\n",
    "\n",
    "### 2. Plot two clusters of points for testing dataset\n",
    "\n",
    "- Generate two sets of separable random point clusters in $\\mathbb{R}^2$ for a testing dataset using the same centroid and the standard deviation of random generator as the training dataset\n",
    "- Plot the point clusters in the testing dataset using different colors depending on their labels (different colors from the training dataset)\n",
    "\n",
    "### 3. git commit\n",
    "\n",
    "```console\n",
    "$ git commit -a -m \"Plot the training and testing datasets\"\n",
    "$ git push -u origin master\n",
    "```\n",
    "\n",
    "### 4. Plot the learning curves\n",
    "\n",
    "- Apply the gradient descent algorithm\n",
    "- Plot the training loss at every iteration\n",
    "- Plot the testing loss at every iteration\n",
    "- Plot the training accuracy at every iteration\n",
    "- Plot the testing accuracy at every iteration\n",
    "\n",
    "### 5. git commit\n",
    "\n",
    "```console\n",
    "$ git commit -a -m \"Plot the learning curves\"\n",
    "$ git push -u origin master\n",
    "```"
   ]
  },
  {
   "cell_type": "markdown",
   "metadata": {},
   "source": [
    "Reference:\n",
    "\n",
    "4) 로지스틱 회귀(Logistic Regression) - 이진 분류(https://wikidocs.net/22881)\n",
    "\n",
    "How To Implement Logistic Regression From Scratch in Python(https://machinelearningmastery.com/implement-logistic-regression-stochastic-gradient-descent-scratch-python/)\n",
    "\n",
    "gradient descent 구현(https://hwiyong.tistory.com/71)\n",
    "\n",
    "13. 파이썬으로 Logistic Regression 직접 구현(https://pythonkim.tistory.com/18)"
   ]
  },
  {
   "cell_type": "code",
   "execution_count": 2,
   "metadata": {},
   "outputs": [],
   "source": [
    "import numpy as np\n",
    "import matplotlib.pyplot as plt"
   ]
  },
  {
   "cell_type": "markdown",
   "metadata": {},
   "source": [
    "$ \\sigma(x) = \\frac{1}{1+\\exp(-x)} $"
   ]
  },
  {
   "cell_type": "code",
   "execution_count": 4,
   "metadata": {},
   "outputs": [],
   "source": [
    "def sigmoid(x):\n",
    "    return 1/(1+np.exp(-x))"
   ]
  },
  {
   "cell_type": "code",
   "execution_count": 159,
   "metadata": {},
   "outputs": [],
   "source": [
    "def generateData(numOfPoints):\n",
    "    centroid_x = np.random.uniform(low=-10, high=10)\n",
    "    centroid_y = np.random.uniform(low=-10, high=10)\n",
    "    x_values = np.random.normal(centroid_x, size=(1, int(numOfPoints/2)))\n",
    "    y_values = np.random.normal(centroid_y, size=(1, int(numOfPoints/2)))\n",
    "#    labels = np.random.randint(2, size=(1,numOfPoints))\n",
    "    labels = np.full((1, int(numOfPoints/2)), 0)\n",
    "    data_0 = np.vstack((x_values, y_values, labels))\n",
    "    data_0 = data_0.transpose()\n",
    "    \n",
    "    centroid_x = np.random.uniform(low=-10, high=10)\n",
    "    centroid_y = np.random.uniform(low=-10, high=10)\n",
    "    x_values = np.random.normal(centroid_x, size=(1, int(numOfPoints/2)))\n",
    "    y_values = np.random.normal(centroid_y, size=(1, int(numOfPoints/2)))\n",
    "#    labels = np.random.randint(2, size=(1,numOfPoints))\n",
    "    labels = np.full((1, int(numOfPoints/2)), 1)\n",
    "    data_1 = np.vstack((x_values, y_values, labels))\n",
    "    data_1 = data_1.transpose()\n",
    "    \n",
    "    data = np.vstack((data_0, data_1))\n",
    "    return data"
   ]
  },
  {
   "cell_type": "code",
   "execution_count": 160,
   "metadata": {},
   "outputs": [],
   "source": [
    "# Generate data\n",
    "num_of_training_data = 100\n",
    "num_of_test_data = 100\n",
    "training_data = generateData(num_of_training_data)\n",
    "test_data = generateData(num_of_test_data)\n",
    "\n",
    "colors = ['red', 'blue']"
   ]
  },
  {
   "cell_type": "code",
   "execution_count": 168,
   "metadata": {
    "scrolled": true
   },
   "outputs": [
    {
     "data": {
      "image/png": "[encoded data removed]",
      "text/plain": [
       "<Figure size 432x288 with 1 Axes>"
      ]
     },
     "metadata": {
      "needs_background": "light"
     },
     "output_type": "display_data"
    }
   ],
   "source": [
    "plt.scatter(training_data[:50,0], training_data[:50,1], label='training data, label=0')\n",
    "plt.scatter(training_data[50:100,0], training_data[50:100,1], label='training data, label=1')\n",
    "plt.scatter(test_data[:50,0], test_data[:50,1], label='test data, label=0')\n",
    "plt.scatter(test_data[50:100,0], test_data[50:100,1], label='test data, label=1')\n",
    "\n",
    "#plt.scatter(test_data[:,0], test_data[:,1], cmap=colors,label='testing data')\n",
    "plt.legend()\n",
    "plt.show()"
   ]
  },
  {
   "cell_type": "markdown",
   "metadata": {},
   "source": [
    "> - $(x_i, y_i)$ denotes a pair of a training example and $i = 1, 2, \\cdots, n$\n",
    "> - $\\hat{y}_i = \\sigma(z_i)$ where $z_i = w^T x_i + b$ and $\\sigma(z) = \\frac{1}{1 + \\exp(-z)}$\n",
    "> - The loss function is defined by $\\mathcal{L} = \\frac{1}{n} \\sum_{i=1}^n f_i(w, b)$\n",
    "> - $f_i(w, b) = - y_i \\log \\hat{y}_i - (1 - y_i) \\log (1 - \\hat{y}_i) $"
   ]
  },
  {
   "cell_type": "markdown",
   "metadata": {},
   "source": [
    "### 4. Plot the learning curves\n",
    "\n",
    "- Apply the gradient descent algorithm\n",
    "- Plot the training loss at every iteration\n",
    "- Plot the testing loss at every iteration\n",
    "- Plot the training accuracy at every iteration\n",
    "- Plot the testing accuracy at every iteration"
   ]
  },
  {
   "cell_type": "code",
   "execution_count": 57,
   "metadata": {},
   "outputs": [],
   "source": [
    "epoch = 1000\n",
    "training_loss = []\n",
    "testing_loss = []\n",
    "training_accuracy = []\n",
    "testing_accuracy = []\n",
    "for i in range(epoch):\n",
    "    \n",
    "    pass"
   ]
  },
  {
   "cell_type": "code",
   "execution_count": 81,
   "metadata": {},
   "outputs": [],
   "source": [
    "def cost():\n",
    "    pass"
   ]
  },
  {
   "cell_type": "code",
   "execution_count": 53,
   "metadata": {},
   "outputs": [],
   "source": [
    "def predict(x):\n",
    "    z = w*x + b\n",
    "    if sigmoid(z) < 0.5:\n",
    "        y_hat = 0\n",
    "    elif sigmoid(z) >= 0.5:\n",
    "        y_hat = 1\n",
    "    return y_hat"
   ]
  },
  {
   "cell_type": "code",
   "execution_count": null,
   "metadata": {},
   "outputs": [],
   "source": []
  }
 ],
 "metadata": {
  "kernelspec": {
   "display_name": "Python 3",
   "language": "python",
   "name": "python3"
  },
  "language_info": {
   "codemirror_mode": {
    "name": "ipython",
    "version": 3
   },
   "file_extension": ".py",
   "mimetype": "text/x-python",
   "name": "python",
   "nbconvert_exporter": "python",
   "pygments_lexer": "ipython3",
   "version": "3.7.1"
  }
 },
 "nbformat": 4,
 "nbformat_minor": 2
}
